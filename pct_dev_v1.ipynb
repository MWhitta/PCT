{
 "cells": [
  {
   "cell_type": "markdown",
   "id": "b998a31c",
   "metadata": {},
   "source": [
    "# Photon correlation spectroscopy development\n",
    "### M. L. Whittaker \n",
    "### 26 June 2025"
   ]
  },
  {
   "cell_type": "code",
   "execution_count": 1,
   "id": "79b7f68a",
   "metadata": {},
   "outputs": [],
   "source": [
    "import numpy as np\n",
    "import matplotlib.pyplot as plt"
   ]
  },
  {
   "cell_type": "code",
   "execution_count": null,
   "id": "7192cc65",
   "metadata": {},
   "outputs": [],
   "source": []
  }
 ],
 "metadata": {
  "kernelspec": {
   "display_name": "pct",
   "language": "python",
   "name": "python3"
  },
  "language_info": {
   "codemirror_mode": {
    "name": "ipython",
    "version": 3
   },
   "file_extension": ".py",
   "mimetype": "text/x-python",
   "name": "python",
   "nbconvert_exporter": "python",
   "pygments_lexer": "ipython3",
   "version": "3.13.5"
  }
 },
 "nbformat": 4,
 "nbformat_minor": 5
}
